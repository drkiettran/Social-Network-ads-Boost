{
 "cells": [
  {
   "cell_type": "markdown",
   "id": "b60558df",
   "metadata": {},
   "source": [
    "# Accessing database using psycopg2 library\n",
    "\n",
    "- Make sure pandas library is already installed\n",
    "- Need to install the library: `pip3 install postgres`\n",
    "- Run notebook: jupyter notebook\n"
   ]
  },
  {
   "cell_type": "code",
   "execution_count": null,
   "id": "7aedbab5",
   "metadata": {},
   "outputs": [],
   "source": [
    "import psycopg2\n",
    "import pandas as pd"
   ]
  },
  {
   "cell_type": "code",
   "execution_count": null,
   "id": "4027020d",
   "metadata": {},
   "outputs": [],
   "source": [
    "database_host = 'localhost'\n",
    "database_portno = 5432\n",
    "schema_name = 'dvdrental'\n",
    "user = 'postgres'\n",
    "password = 'password'"
   ]
  },
  {
   "cell_type": "code",
   "execution_count": null,
   "id": "a3ebcb1d",
   "metadata": {},
   "outputs": [],
   "source": [
    "conn = psycopg2.connect(host=database_host, port = database_portno, \n",
    "                        database=schema_name, user=user, \n",
    "                        password=password)"
   ]
  },
  {
   "cell_type": "code",
   "execution_count": null,
   "id": "bca1ca32",
   "metadata": {},
   "outputs": [],
   "source": [
    "cur = conn.cursor()"
   ]
  },
  {
   "cell_type": "code",
   "execution_count": null,
   "id": "2cc8b51e",
   "metadata": {},
   "outputs": [],
   "source": [
    "query = \"select column_name from information_schema.columns where table_schema='public' and table_name='actor';\"\n",
    "cur.execute(query)\n",
    "query_results = cur.fetchall()"
   ]
  },
  {
   "cell_type": "code",
   "execution_count": null,
   "id": "76216259",
   "metadata": {},
   "outputs": [],
   "source": [
    "column_names = []\n",
    "for row in query_results:\n",
    "    column_names.append(row[0])\n",
    "column_names"
   ]
  },
  {
   "cell_type": "code",
   "execution_count": null,
   "id": "f7e9ff07",
   "metadata": {},
   "outputs": [],
   "source": [
    "query = 'Select * from actor'\n",
    "cur.execute(query)\n",
    "query_results = cur.fetchall()\n"
   ]
  },
  {
   "cell_type": "code",
   "execution_count": null,
   "id": "0a9cea8b",
   "metadata": {},
   "outputs": [],
   "source": [
    "actors = pd.DataFrame(query_results)\n",
    "actors.columns = column_names"
   ]
  },
  {
   "cell_type": "code",
   "execution_count": null,
   "id": "64048af1",
   "metadata": {},
   "outputs": [],
   "source": [
    "actors"
   ]
  },
  {
   "cell_type": "code",
   "execution_count": null,
   "id": "a8a8db92",
   "metadata": {},
   "outputs": [],
   "source": [
    "query = \"select column_name from information_schema.columns where table_schema='pg_catalog' and table_name='pg_tables';\"\n",
    "#          select column_name from information_schema.columns where table_schema='pg_catalog'  and table_name='pg_tables';\n",
    "cur.execute(query)\n",
    "query_results = cur.fetchall()"
   ]
  },
  {
   "cell_type": "code",
   "execution_count": null,
   "id": "2d0e4e08",
   "metadata": {},
   "outputs": [],
   "source": [
    "column_names = []\n",
    "for row in query_results:\n",
    "    column_names.append(row[0])\n",
    "column_names"
   ]
  },
  {
   "cell_type": "code",
   "execution_count": null,
   "id": "64a11402",
   "metadata": {},
   "outputs": [],
   "source": [
    "query = \"Select * from pg_catalog.pg_tables where schemaname != 'pg_catalog' and schemaname != 'information_schema'\";\n",
    "cur.execute(query)\n",
    "query_results = cur.fetchall()"
   ]
  },
  {
   "cell_type": "code",
   "execution_count": null,
   "id": "5fc67d07",
   "metadata": {},
   "outputs": [],
   "source": [
    "tables = pd.DataFrame(query_results)\n",
    "tables.columns = column_names\n",
    "tables"
   ]
  },
  {
   "cell_type": "code",
   "execution_count": null,
   "id": "7b67a341",
   "metadata": {},
   "outputs": [],
   "source": []
  }
 ],
 "metadata": {
  "kernelspec": {
   "display_name": "Python 3 (ipykernel)",
   "language": "python",
   "name": "python3"
  },
  "language_info": {
   "codemirror_mode": {
    "name": "ipython",
    "version": 3
   },
   "file_extension": ".py",
   "mimetype": "text/x-python",
   "name": "python",
   "nbconvert_exporter": "python",
   "pygments_lexer": "ipython3",
   "version": "3.8.10"
  }
 },
 "nbformat": 4,
 "nbformat_minor": 5
}
